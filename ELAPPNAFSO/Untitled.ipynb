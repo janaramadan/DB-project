{
 "cells": [
  {
   "cell_type": "code",
   "execution_count": 1,
   "id": "629cf55f-1749-4141-ad6e-71677de5cae2",
   "metadata": {},
   "outputs": [],
   "source": [
    "import pyodbc\n",
    "import pandas as pd\n",
    "import datetime\n",
    "\n",
    "cnxn_str=(\"Driver={ODBC Driver 17 for SQL Server};\"\n",
    "          \"Server=localhost;\"\n",
    "          \"Database=UniversityLibrary;\"            #databasebeta3naaa\n",
    "          \"Trusted_Connection=yes;\")\n",
    "cnxn = pyodbc.connect(cnxn_str)\n"
   ]
  },
  {
   "cell_type": "code",
   "execution_count": 2,
   "id": "31cfee7b-7afe-46fc-8a7d-7bd12834ea60",
   "metadata": {},
   "outputs": [],
   "source": [
    "# E3mel el cursor\n",
    "cursor = cnxn.cursor()\n",
    "\n",
    "# 2 INSERT FUNCTIONS\n",
    "def insertStudent(cursor, student_id, password, username, email, country, city, street):\n",
    "    cursor.execute(\n",
    "        \"INSERT INTO Student (Student_ID, Password, Username, Email, Country, City, Street) VALUES (?, ?, ?, ?, ?, ?, ?)\",\n",
    "        (student_id, password, username, email, country, city, street)\n",
    "    )\n",
    "\n",
    "def insertBook(cursor, isbn, publish_year, description, pages, title):\n",
    "    cursor.execute(\n",
    "        \"INSERT INTO Book (ISBN, PublishYear, Description, Pages, Title) VALUES (?, ?, ?, ?, ?)\",\n",
    "        (isbn, publish_year, description, pages, title)\n",
    "    )\n",
    "\n",
    "# GARAB BA\n",
    "insertStudent(cursor, 3, '123', 'Jana', 'Jana@gmail.com', 'EGYPT', 'Cairo', '123 STREET')\n",
    "insertBook(cursor, 9789876543210, '2003-11-07', 'BOOK DESCRIPTION', 200, 'BOOK TITLE')"
   ]
  },
  {
   "cell_type": "code",
   "execution_count": 3,
   "id": "ac8637e9-72c4-4b40-9ca6-db0b6ad4936c",
   "metadata": {},
   "outputs": [
    {
     "name": "stdout",
     "output_type": "stream",
     "text": [
      "Students:\n",
      "(1, 'studentpass', 'student1', 'student1@example.com', 'EGYPT', 'Giza', '456 Street')\n",
      "(3, '123', 'Jana', 'Jana@gmail.com', 'EGYPT', 'Cairo', '123 STREET')\n",
      "Books:\n",
      "(1234567890, datetime.date(2024, 1, 1), 'Book Description', 300, 'Book Title')\n",
      "(9789876543210, datetime.date(2003, 11, 7), 'BOOK DESCRIPTION', 200, 'BOOK TITLE')\n"
     ]
    }
   ],
   "source": [
    "def getAllStudents(cursor):\n",
    "    cursor.execute(\"SELECT * FROM Student\")\n",
    "    students = cursor.fetchall()\n",
    "    print(\"Students:\")\n",
    "    for student in students:\n",
    "        print(student)\n",
    "\n",
    "\n",
    "def getAllBooks(cursor):\n",
    "    cursor.execute(\"SELECT * FROM Book\")\n",
    "    books = cursor.fetchall()\n",
    "    print(\"Books:\")\n",
    "    for book in books:\n",
    "        print(book)\n",
    "\n",
    "\n",
    "\n",
    "# DISPLAY\n",
    "getAllStudents(cursor)\n",
    "getAllBooks(cursor)\n",
    "\n",
    "# ZEE3 W E2FEL\n",
    "cnxn.commit()\n",
    "cnxn.close()"
   ]
  }
 ],
 "metadata": {
  "kernelspec": {
   "display_name": "Python 3 (ipykernel)",
   "language": "python",
   "name": "python3"
  },
  "language_info": {
   "codemirror_mode": {
    "name": "ipython",
    "version": 3
   },
   "file_extension": ".py",
   "mimetype": "text/x-python",
   "name": "python",
   "nbconvert_exporter": "python",
   "pygments_lexer": "ipython3",
   "version": "3.12.3"
  }
 },
 "nbformat": 4,
 "nbformat_minor": 5
}
